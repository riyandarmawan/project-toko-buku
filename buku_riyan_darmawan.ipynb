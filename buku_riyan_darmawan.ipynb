{
    "metadata": {
        "kernelspec": {
            "name": "SQL",
            "display_name": "SQL",
            "language": "sql"
        },
        "language_info": {
            "name": "sql",
            "version": ""
        }
    },
    "nbformat_minor": 2,
    "nbformat": 4,
    "cells": [
        {
            "cell_type": "code",
            "source": [
                "CREATE DATABASE buku_riyan_darmawan;"
            ],
            "metadata": {
                "azdata_cell_guid": "6bcb40e4-e334-4ced-b6a1-bfc9fdf9849a",
                "language": "sql"
            },
            "outputs": [
                {
                    "output_type": "display_data",
                    "data": {
                        "text/html": "Commands completed successfully"
                    },
                    "metadata": {}
                },
                {
                    "output_type": "display_data",
                    "data": {
                        "text/html": "Total execution time: 00:00:00.052"
                    },
                    "metadata": {}
                }
            ],
            "execution_count": 2
        },
        {
            "cell_type": "code",
            "source": [
                "USE buku_riyan_darmawan;"
            ],
            "metadata": {
                "azdata_cell_guid": "78ff53e5-44d3-46f3-9c47-5f313a9f7689",
                "language": "sql"
            },
            "outputs": [
                {
                    "output_type": "display_data",
                    "data": {
                        "text/html": "Commands completed successfully"
                    },
                    "metadata": {}
                },
                {
                    "output_type": "display_data",
                    "data": {
                        "text/html": "Total execution time: 00:00:00.029"
                    },
                    "metadata": {}
                }
            ],
            "execution_count": 3
        },
        {
            "cell_type": "code",
            "source": [
                "CREATE TABLE distributor (\r\n",
                "    id_distributor INT PRIMARY KEY,\r\n",
                "    nama_distributor VARCHAR(50),\r\n",
                "    alamat TEXT,\r\n",
                "    telepon VARCHAR(13)\r\n",
                ");\r\n",
                "\r\n",
                "CREATE TABLE buku (\r\n",
                "    id_buku INT PRIMARY KEY,\r\n",
                "    judul VARCHAR(255),\r\n",
                "    no_isbn INT(13),\r\n",
                "    penulis VARCHAR(35),\r\n",
                "    penerbit VARCHAR(50),\r\n",
                "    tahun YEAR,\r\n",
                "    stok INT,\r\n",
                "    harga_produk INT,\r\n",
                "    harga_jual INT,\r\n",
                "    ppn FLOAT,\r\n",
                "    diskon FLOAT\r\n",
                ");\r\n",
                "\r\n",
                "CREATE TABLE kasir (\r\n",
                "    id_kasir INT PRIMARY KEY,\r\n",
                "    nama VARCHAR(35),\r\n",
                "    alamat TEXT,\r\n",
                "    telepon VARCHAR(13),\r\n",
                "    status ENUM('online', 'offline'),\r\n",
                "    username VARCHAR(30),\r\n",
                "    password VARCHAR(30),\r\n",
                "    akses ENUM('admin')\r\n",
                ");\r\n",
                "\r\n",
                "CREATE TABLE pasok (\r\n",
                "    id_pasok INT PRIMARY KEY,\r\n",
                "    id_distributor INT,\r\n",
                "    id_buku INT,\r\n",
                "    jumlah INT,\r\n",
                "    tanggal DATE,\r\n",
                "    FOREIGN KEY (id_distributor) REFERENCES distributor (id_distributor) ON UPDATE CASCADE ON DELETE CASCADE,\r\n",
                "    FOREIGN KEY (id_buku) REFERENCES buku (id_buku) ON UPDATE CASCADE ON DELETE CASCADE\r\n",
                ");\r\n",
                "\r\n",
                "CREATE TABLE penjualan (\r\n",
                "    id_penjualan INT PRIMARY KEY,\r\n",
                "    id_buku INT,\r\n",
                "    id_kasir INT,\r\n",
                "    jumlah INT,\r\n",
                "    total INT,\r\n",
                "    tanggal DATE,\r\n",
                "    FOREIGN KEY (id_buku) REFERENCES buku (id_buku) ON UPDATE CASCADE ON DELETE CASCADE,\r\n",
                "    FOREIGN KEY (id_kasir) REFERENCES kasir (id_kasir) ON UPDATE CASCADE ON DELETE CASCADE\r\n",
                ")"
            ],
            "metadata": {
                "azdata_cell_guid": "640ddf6a-bb0d-41fa-86e6-6c6eab67afa5",
                "language": "sql"
            },
            "outputs": [
                {
                    "output_type": "display_data",
                    "data": {
                        "text/html": "Commands completed successfully"
                    },
                    "metadata": {}
                },
                {
                    "output_type": "display_data",
                    "data": {
                        "text/html": "Total execution time: 00:00:00.231"
                    },
                    "metadata": {}
                }
            ],
            "execution_count": 22
        },
        {
            "cell_type": "code",
            "source": [
                "DESC distributor;\r\n",
                "DESC buku;\r\n",
                "DESC kasir;\r\n",
                "DESC pasok;\r\n",
                "DESC penjualan;"
            ],
            "metadata": {
                "azdata_cell_guid": "94ae313d-f187-479b-9e12-85911ff532c6",
                "language": "sql"
            },
            "outputs": [
                {
                    "output_type": "display_data",
                    "data": {
                        "text/html": "(4 row(s) affected)"
                    },
                    "metadata": {}
                },
                {
                    "output_type": "display_data",
                    "data": {
                        "text/html": "(11 row(s) affected)"
                    },
                    "metadata": {}
                },
                {
                    "output_type": "display_data",
                    "data": {
                        "text/html": "(8 row(s) affected)"
                    },
                    "metadata": {}
                },
                {
                    "output_type": "display_data",
                    "data": {
                        "text/html": "(5 row(s) affected)"
                    },
                    "metadata": {}
                },
                {
                    "output_type": "display_data",
                    "data": {
                        "text/html": "(6 row(s) affected)"
                    },
                    "metadata": {}
                },
                {
                    "output_type": "display_data",
                    "data": {
                        "text/html": "Total execution time: 00:00:10.959"
                    },
                    "metadata": {}
                },
                {
                    "output_type": "execute_result",
                    "metadata": {},
                    "execution_count": 23,
                    "data": {
                        "application/vnd.dataresource+json": {
                            "schema": {
                                "fields": [
                                    {
                                        "name": "Field"
                                    },
                                    {
                                        "name": "Type"
                                    },
                                    {
                                        "name": "Null"
                                    },
                                    {
                                        "name": "Key"
                                    },
                                    {
                                        "name": "Default"
                                    },
                                    {
                                        "name": "Extra"
                                    }
                                ]
                            },
                            "data": [
                                {
                                    "Field": "id_distributor",
                                    "Type": "int(11)",
                                    "Null": "NO",
                                    "Key": "PRI",
                                    "Default": "NULL",
                                    "Extra": ""
                                },
                                {
                                    "Field": "nama_distributor",
                                    "Type": "varchar(50)",
                                    "Null": "YES",
                                    "Key": "",
                                    "Default": "NULL",
                                    "Extra": ""
                                },
                                {
                                    "Field": "alamat",
                                    "Type": "text",
                                    "Null": "YES",
                                    "Key": "",
                                    "Default": "NULL",
                                    "Extra": ""
                                },
                                {
                                    "Field": "telepon",
                                    "Type": "varchar(13)",
                                    "Null": "YES",
                                    "Key": "",
                                    "Default": "NULL",
                                    "Extra": ""
                                }
                            ]
                        },
                        "text/html": [
                            "<table>",
                            "<tr><th>Field</th><th>Type</th><th>Null</th><th>Key</th><th>Default</th><th>Extra</th></tr>",
                            "<tr><td>id_distributor</td><td>int(11)</td><td>NO</td><td>PRI</td><td>NULL</td><td></td></tr>",
                            "<tr><td>nama_distributor</td><td>varchar(50)</td><td>YES</td><td></td><td>NULL</td><td></td></tr>",
                            "<tr><td>alamat</td><td>text</td><td>YES</td><td></td><td>NULL</td><td></td></tr>",
                            "<tr><td>telepon</td><td>varchar(13)</td><td>YES</td><td></td><td>NULL</td><td></td></tr>",
                            "</table>"
                        ]
                    }
                },
                {
                    "output_type": "execute_result",
                    "metadata": {},
                    "execution_count": 23,
                    "data": {
                        "application/vnd.dataresource+json": {
                            "schema": {
                                "fields": [
                                    {
                                        "name": "Field"
                                    },
                                    {
                                        "name": "Type"
                                    },
                                    {
                                        "name": "Null"
                                    },
                                    {
                                        "name": "Key"
                                    },
                                    {
                                        "name": "Default"
                                    },
                                    {
                                        "name": "Extra"
                                    }
                                ]
                            },
                            "data": [
                                {
                                    "Field": "id_buku",
                                    "Type": "int(11)",
                                    "Null": "NO",
                                    "Key": "PRI",
                                    "Default": "NULL",
                                    "Extra": ""
                                },
                                {
                                    "Field": "judul",
                                    "Type": "varchar(255)",
                                    "Null": "YES",
                                    "Key": "",
                                    "Default": "NULL",
                                    "Extra": ""
                                },
                                {
                                    "Field": "no_isbn",
                                    "Type": "int(13)",
                                    "Null": "YES",
                                    "Key": "",
                                    "Default": "NULL",
                                    "Extra": ""
                                },
                                {
                                    "Field": "penulis",
                                    "Type": "varchar(35)",
                                    "Null": "YES",
                                    "Key": "",
                                    "Default": "NULL",
                                    "Extra": ""
                                },
                                {
                                    "Field": "penerbit",
                                    "Type": "varchar(50)",
                                    "Null": "YES",
                                    "Key": "",
                                    "Default": "NULL",
                                    "Extra": ""
                                },
                                {
                                    "Field": "tahun",
                                    "Type": "year(4)",
                                    "Null": "YES",
                                    "Key": "",
                                    "Default": "NULL",
                                    "Extra": ""
                                },
                                {
                                    "Field": "stok",
                                    "Type": "int(11)",
                                    "Null": "YES",
                                    "Key": "",
                                    "Default": "NULL",
                                    "Extra": ""
                                },
                                {
                                    "Field": "harga_produk",
                                    "Type": "int(11)",
                                    "Null": "YES",
                                    "Key": "",
                                    "Default": "NULL",
                                    "Extra": ""
                                },
                                {
                                    "Field": "harga_jual",
                                    "Type": "int(11)",
                                    "Null": "YES",
                                    "Key": "",
                                    "Default": "NULL",
                                    "Extra": ""
                                },
                                {
                                    "Field": "ppn",
                                    "Type": "float",
                                    "Null": "YES",
                                    "Key": "",
                                    "Default": "NULL",
                                    "Extra": ""
                                },
                                {
                                    "Field": "diskon",
                                    "Type": "float",
                                    "Null": "YES",
                                    "Key": "",
                                    "Default": "NULL",
                                    "Extra": ""
                                }
                            ]
                        },
                        "text/html": [
                            "<table>",
                            "<tr><th>Field</th><th>Type</th><th>Null</th><th>Key</th><th>Default</th><th>Extra</th></tr>",
                            "<tr><td>id_buku</td><td>int(11)</td><td>NO</td><td>PRI</td><td>NULL</td><td></td></tr>",
                            "<tr><td>judul</td><td>varchar(255)</td><td>YES</td><td></td><td>NULL</td><td></td></tr>",
                            "<tr><td>no_isbn</td><td>int(13)</td><td>YES</td><td></td><td>NULL</td><td></td></tr>",
                            "<tr><td>penulis</td><td>varchar(35)</td><td>YES</td><td></td><td>NULL</td><td></td></tr>",
                            "<tr><td>penerbit</td><td>varchar(50)</td><td>YES</td><td></td><td>NULL</td><td></td></tr>",
                            "<tr><td>tahun</td><td>year(4)</td><td>YES</td><td></td><td>NULL</td><td></td></tr>",
                            "<tr><td>stok</td><td>int(11)</td><td>YES</td><td></td><td>NULL</td><td></td></tr>",
                            "<tr><td>harga_produk</td><td>int(11)</td><td>YES</td><td></td><td>NULL</td><td></td></tr>",
                            "<tr><td>harga_jual</td><td>int(11)</td><td>YES</td><td></td><td>NULL</td><td></td></tr>",
                            "<tr><td>ppn</td><td>float</td><td>YES</td><td></td><td>NULL</td><td></td></tr>",
                            "<tr><td>diskon</td><td>float</td><td>YES</td><td></td><td>NULL</td><td></td></tr>",
                            "</table>"
                        ]
                    }
                },
                {
                    "output_type": "execute_result",
                    "metadata": {},
                    "execution_count": 23,
                    "data": {
                        "application/vnd.dataresource+json": {
                            "schema": {
                                "fields": [
                                    {
                                        "name": "Field"
                                    },
                                    {
                                        "name": "Type"
                                    },
                                    {
                                        "name": "Null"
                                    },
                                    {
                                        "name": "Key"
                                    },
                                    {
                                        "name": "Default"
                                    },
                                    {
                                        "name": "Extra"
                                    }
                                ]
                            },
                            "data": [
                                {
                                    "Field": "id_kasir",
                                    "Type": "int(11)",
                                    "Null": "NO",
                                    "Key": "PRI",
                                    "Default": "NULL",
                                    "Extra": ""
                                },
                                {
                                    "Field": "nama",
                                    "Type": "varchar(35)",
                                    "Null": "YES",
                                    "Key": "",
                                    "Default": "NULL",
                                    "Extra": ""
                                },
                                {
                                    "Field": "alamat",
                                    "Type": "text",
                                    "Null": "YES",
                                    "Key": "",
                                    "Default": "NULL",
                                    "Extra": ""
                                },
                                {
                                    "Field": "telepon",
                                    "Type": "varchar(13)",
                                    "Null": "YES",
                                    "Key": "",
                                    "Default": "NULL",
                                    "Extra": ""
                                },
                                {
                                    "Field": "status",
                                    "Type": "enum('online','offline')",
                                    "Null": "YES",
                                    "Key": "",
                                    "Default": "NULL",
                                    "Extra": ""
                                },
                                {
                                    "Field": "username",
                                    "Type": "varchar(30)",
                                    "Null": "YES",
                                    "Key": "",
                                    "Default": "NULL",
                                    "Extra": ""
                                },
                                {
                                    "Field": "password",
                                    "Type": "varchar(30)",
                                    "Null": "YES",
                                    "Key": "",
                                    "Default": "NULL",
                                    "Extra": ""
                                },
                                {
                                    "Field": "akses",
                                    "Type": "enum('admin')",
                                    "Null": "YES",
                                    "Key": "",
                                    "Default": "NULL",
                                    "Extra": ""
                                }
                            ]
                        },
                        "text/html": [
                            "<table>",
                            "<tr><th>Field</th><th>Type</th><th>Null</th><th>Key</th><th>Default</th><th>Extra</th></tr>",
                            "<tr><td>id_kasir</td><td>int(11)</td><td>NO</td><td>PRI</td><td>NULL</td><td></td></tr>",
                            "<tr><td>nama</td><td>varchar(35)</td><td>YES</td><td></td><td>NULL</td><td></td></tr>",
                            "<tr><td>alamat</td><td>text</td><td>YES</td><td></td><td>NULL</td><td></td></tr>",
                            "<tr><td>telepon</td><td>varchar(13)</td><td>YES</td><td></td><td>NULL</td><td></td></tr>",
                            "<tr><td>status</td><td>enum(&#39;online&#39;,&#39;offline&#39;)</td><td>YES</td><td></td><td>NULL</td><td></td></tr>",
                            "<tr><td>username</td><td>varchar(30)</td><td>YES</td><td></td><td>NULL</td><td></td></tr>",
                            "<tr><td>password</td><td>varchar(30)</td><td>YES</td><td></td><td>NULL</td><td></td></tr>",
                            "<tr><td>akses</td><td>enum(&#39;admin&#39;)</td><td>YES</td><td></td><td>NULL</td><td></td></tr>",
                            "</table>"
                        ]
                    }
                },
                {
                    "output_type": "execute_result",
                    "metadata": {},
                    "execution_count": 23,
                    "data": {
                        "application/vnd.dataresource+json": {
                            "schema": {
                                "fields": [
                                    {
                                        "name": "Field"
                                    },
                                    {
                                        "name": "Type"
                                    },
                                    {
                                        "name": "Null"
                                    },
                                    {
                                        "name": "Key"
                                    },
                                    {
                                        "name": "Default"
                                    },
                                    {
                                        "name": "Extra"
                                    }
                                ]
                            },
                            "data": [
                                {
                                    "Field": "id_pasok",
                                    "Type": "int(11)",
                                    "Null": "NO",
                                    "Key": "PRI",
                                    "Default": "NULL",
                                    "Extra": ""
                                },
                                {
                                    "Field": "id_distributor",
                                    "Type": "int(11)",
                                    "Null": "YES",
                                    "Key": "MUL",
                                    "Default": "NULL",
                                    "Extra": ""
                                },
                                {
                                    "Field": "id_buku",
                                    "Type": "int(11)",
                                    "Null": "YES",
                                    "Key": "MUL",
                                    "Default": "NULL",
                                    "Extra": ""
                                },
                                {
                                    "Field": "jumlah",
                                    "Type": "int(11)",
                                    "Null": "YES",
                                    "Key": "",
                                    "Default": "NULL",
                                    "Extra": ""
                                },
                                {
                                    "Field": "tanggal",
                                    "Type": "date",
                                    "Null": "YES",
                                    "Key": "",
                                    "Default": "NULL",
                                    "Extra": ""
                                }
                            ]
                        },
                        "text/html": [
                            "<table>",
                            "<tr><th>Field</th><th>Type</th><th>Null</th><th>Key</th><th>Default</th><th>Extra</th></tr>",
                            "<tr><td>id_pasok</td><td>int(11)</td><td>NO</td><td>PRI</td><td>NULL</td><td></td></tr>",
                            "<tr><td>id_distributor</td><td>int(11)</td><td>YES</td><td>MUL</td><td>NULL</td><td></td></tr>",
                            "<tr><td>id_buku</td><td>int(11)</td><td>YES</td><td>MUL</td><td>NULL</td><td></td></tr>",
                            "<tr><td>jumlah</td><td>int(11)</td><td>YES</td><td></td><td>NULL</td><td></td></tr>",
                            "<tr><td>tanggal</td><td>date</td><td>YES</td><td></td><td>NULL</td><td></td></tr>",
                            "</table>"
                        ]
                    }
                },
                {
                    "output_type": "execute_result",
                    "metadata": {},
                    "execution_count": 23,
                    "data": {
                        "application/vnd.dataresource+json": {
                            "schema": {
                                "fields": [
                                    {
                                        "name": "Field"
                                    },
                                    {
                                        "name": "Type"
                                    },
                                    {
                                        "name": "Null"
                                    },
                                    {
                                        "name": "Key"
                                    },
                                    {
                                        "name": "Default"
                                    },
                                    {
                                        "name": "Extra"
                                    }
                                ]
                            },
                            "data": [
                                {
                                    "Field": "id_penjualan",
                                    "Type": "int(11)",
                                    "Null": "NO",
                                    "Key": "PRI",
                                    "Default": "NULL",
                                    "Extra": ""
                                },
                                {
                                    "Field": "id_buku",
                                    "Type": "int(11)",
                                    "Null": "YES",
                                    "Key": "MUL",
                                    "Default": "NULL",
                                    "Extra": ""
                                },
                                {
                                    "Field": "id_kasir",
                                    "Type": "int(11)",
                                    "Null": "YES",
                                    "Key": "MUL",
                                    "Default": "NULL",
                                    "Extra": ""
                                },
                                {
                                    "Field": "jumlah",
                                    "Type": "int(11)",
                                    "Null": "YES",
                                    "Key": "",
                                    "Default": "NULL",
                                    "Extra": ""
                                },
                                {
                                    "Field": "total",
                                    "Type": "int(11)",
                                    "Null": "YES",
                                    "Key": "",
                                    "Default": "NULL",
                                    "Extra": ""
                                },
                                {
                                    "Field": "tanggal",
                                    "Type": "date",
                                    "Null": "YES",
                                    "Key": "",
                                    "Default": "NULL",
                                    "Extra": ""
                                }
                            ]
                        },
                        "text/html": [
                            "<table>",
                            "<tr><th>Field</th><th>Type</th><th>Null</th><th>Key</th><th>Default</th><th>Extra</th></tr>",
                            "<tr><td>id_penjualan</td><td>int(11)</td><td>NO</td><td>PRI</td><td>NULL</td><td></td></tr>",
                            "<tr><td>id_buku</td><td>int(11)</td><td>YES</td><td>MUL</td><td>NULL</td><td></td></tr>",
                            "<tr><td>id_kasir</td><td>int(11)</td><td>YES</td><td>MUL</td><td>NULL</td><td></td></tr>",
                            "<tr><td>jumlah</td><td>int(11)</td><td>YES</td><td></td><td>NULL</td><td></td></tr>",
                            "<tr><td>total</td><td>int(11)</td><td>YES</td><td></td><td>NULL</td><td></td></tr>",
                            "<tr><td>tanggal</td><td>date</td><td>YES</td><td></td><td>NULL</td><td></td></tr>",
                            "</table>"
                        ]
                    }
                }
            ],
            "execution_count": 23
        },
        {
            "cell_type": "code",
            "source": [
                "ALTER TABLE kasir MODIFY COLUMN akses enum('admin', 'kasir');"
            ],
            "metadata": {
                "azdata_cell_guid": "25d6264e-cf7d-4fc4-ae52-13062b889fb4",
                "language": "sql"
            },
            "outputs": [
{
    "output_type": "display_data",
    "data": {
        "text/html": "Commands completed successfully"
    },
    "metadata": {}
}, {
    "output_type": "display_data",
    "data": {
        "text/html": "Total execution time: 00:00:00.044"
    },
    "metadata": {}
}
],
            "execution_count": 24
        }
    ]
}