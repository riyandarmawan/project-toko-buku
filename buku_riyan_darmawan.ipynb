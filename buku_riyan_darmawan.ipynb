{
    "metadata": {
        "kernelspec": {
            "name": "SQL",
            "display_name": "SQL",
            "language": "sql"
        },
        "language_info": {
            "name": "sql",
            "version": ""
        }
    },
    "nbformat_minor": 2,
    "nbformat": 4,
    "cells": [
        {
            "cell_type": "code",
            "source": [
                "CREATE DATABASE buku_riyan_darmawan;"
            ],
            "metadata": {
                "azdata_cell_guid": "6bcb40e4-e334-4ced-b6a1-bfc9fdf9849a",
                "language": "sql"
            },
            "outputs": [
                {
                    "output_type": "display_data",
                    "data": {
                        "text/html": "Commands completed successfully"
                    },
                    "metadata": {}
                },
                {
                    "output_type": "display_data",
                    "data": {
                        "text/html": "Total execution time: 00:00:00.016"
                    },
                    "metadata": {}
                }
            ],
            "execution_count": 1
        },
        {
            "cell_type": "code",
            "source": [
                "USE buku_riyan_darmawan;"
            ],
            "metadata": {
                "azdata_cell_guid": "78ff53e5-44d3-46f3-9c47-5f313a9f7689",
                "language": "sql"
            },
            "outputs": [
                {
                    "output_type": "display_data",
                    "data": {
                        "text/html": "Commands completed successfully"
                    },
                    "metadata": {}
                },
                {
                    "output_type": "display_data",
                    "data": {
                        "text/html": "Total execution time: 00:00:00.005"
                    },
                    "metadata": {}
                }
            ],
            "execution_count": 2
        },
        {
            "cell_type": "code",
            "source": [
                "CREATE TABLE distributor (\r\n",
                "    id_distributor INT PRIMARY KEY AUTO_INCREMENT,\r\n",
                "    nama_distributor VARCHAR(50),\r\n",
                "    alamat TEXT,\r\n",
                "    telepon VARCHAR(13)\r\n",
                ");\r\n",
                "\r\n",
                "CREATE TABLE buku (\r\n",
                "    id_buku INT PRIMARY KEY AUTO_INCREMENT,\r\n",
                "    judul VARCHAR(255),\r\n",
                "    no_isbn INT(13),\r\n",
                "    penulis VARCHAR(35),\r\n",
                "    penerbit VARCHAR(50),\r\n",
                "    tahun YEAR,\r\n",
                "    stok INT,\r\n",
                "    harga_produk INT,\r\n",
                "    harga_jual INT,\r\n",
                "    ppn FLOAT,\r\n",
                "    diskon FLOAT\r\n",
                ");\r\n",
                "\r\n",
                "CREATE TABLE kasir (\r\n",
                "    id_kasir INT PRIMARY KEY AUTO_INCREMENT,\r\n",
                "    nama VARCHAR(35),\r\n",
                "    alamat TEXT,\r\n",
                "    telepon VARCHAR(13),\r\n",
                "    status ENUM('online', 'offline'),\r\n",
                "    username VARCHAR(30),\r\n",
                "    password VARCHAR(30),\r\n",
                "    akses ENUM('admin', 'kasir')\r\n",
                ");\r\n",
                "\r\n",
                "CREATE TABLE pasok (\r\n",
                "    id_pasok INT PRIMARY KEY AUTO_INCREMENT,\r\n",
                "    id_distributor INT,\r\n",
                "    id_buku INT,\r\n",
                "    jumlah INT,\r\n",
                "    tanggal DATE,\r\n",
                "    FOREIGN KEY (id_distributor) REFERENCES distributor (id_distributor) ON UPDATE CASCADE ON DELETE CASCADE,\r\n",
                "    FOREIGN KEY (id_buku) REFERENCES buku (id_buku) ON UPDATE CASCADE ON DELETE CASCADE\r\n",
                ");\r\n",
                "\r\n",
                "CREATE TABLE penjualan (\r\n",
                "    id_penjualan INT PRIMARY KEY AUTO_INCREMENT,\r\n",
                "    id_buku INT,\r\n",
                "    id_kasir INT,\r\n",
                "    jumlah INT,\r\n",
                "    total INT,\r\n",
                "    tanggal DATE,\r\n",
                "    FOREIGN KEY (id_buku) REFERENCES buku (id_buku) ON UPDATE CASCADE ON DELETE CASCADE,\r\n",
                "    FOREIGN KEY (id_kasir) REFERENCES kasir (id_kasir) ON UPDATE CASCADE ON DELETE CASCADE\r\n",
                ")"
            ],
            "metadata": {
                "azdata_cell_guid": "640ddf6a-bb0d-41fa-86e6-6c6eab67afa5",
                "language": "sql"
            },
            "outputs": [
                {
                    "output_type": "display_data",
                    "data": {
                        "text/html": "Commands completed successfully"
                    },
                    "metadata": {}
                },
                {
                    "output_type": "display_data",
                    "data": {
                        "text/html": "Commands completed successfully"
                    },
                    "metadata": {}
                },
                {
                    "output_type": "display_data",
                    "data": {
                        "text/html": "Commands completed successfully"
                    },
                    "metadata": {}
                },
                {
                    "output_type": "display_data",
                    "data": {
                        "text/html": "Commands completed successfully"
                    },
                    "metadata": {}
                },
                {
                    "output_type": "display_data",
                    "data": {
                        "text/html": "Commands completed successfully"
                    },
                    "metadata": {}
                },
                {
                    "output_type": "display_data",
                    "data": {
                        "text/html": "Total execution time: 00:00:00.350"
                    },
                    "metadata": {}
                }
            ],
            "execution_count": 8
        },
        {
            "cell_type": "code",
            "source": [
                "DESC distributor;\r\n",
                "DESC buku;\r\n",
                "DESC kasir;\r\n",
                "DESC pasok;\r\n",
                "DESC penjualan;"
            ],
            "metadata": {
                "azdata_cell_guid": "94ae313d-f187-479b-9e12-85911ff532c6",
                "language": "sql"
            },
            "outputs": [
                {
                    "output_type": "display_data",
                    "data": {
                        "text/html": "(4 row(s) affected)"
                    },
                    "metadata": {}
                },
                {
                    "output_type": "display_data",
                    "data": {
                        "text/html": "(11 row(s) affected)"
                    },
                    "metadata": {}
                },
                {
                    "output_type": "display_data",
                    "data": {
                        "text/html": "(8 row(s) affected)"
                    },
                    "metadata": {}
                },
                {
                    "output_type": "display_data",
                    "data": {
                        "text/html": "(5 row(s) affected)"
                    },
                    "metadata": {}
                },
                {
                    "output_type": "display_data",
                    "data": {
                        "text/html": "(6 row(s) affected)"
                    },
                    "metadata": {}
                },
                {
                    "output_type": "display_data",
                    "data": {
                        "text/html": "Total execution time: 00:00:05.503"
                    },
                    "metadata": {}
                },
                {
                    "output_type": "execute_result",
                    "execution_count": 9,
                    "data": {
                        "application/vnd.dataresource+json": {
                            "schema": {
                                "fields": [
                                    {
                                        "name": "Field"
                                    },
                                    {
                                        "name": "Type"
                                    },
                                    {
                                        "name": "Null"
                                    },
                                    {
                                        "name": "Key"
                                    },
                                    {
                                        "name": "Default"
                                    },
                                    {
                                        "name": "Extra"
                                    }
                                ]
                            },
                            "data": [
                                {
                                    "Field": "id_distributor",
                                    "Type": "b'int'",
                                    "Null": "NO",
                                    "Key": "PRI",
                                    "Default": "NULL",
                                    "Extra": "auto_increment"
                                },
                                {
                                    "Field": "nama_distributor",
                                    "Type": "b'varchar(50)'",
                                    "Null": "YES",
                                    "Key": "",
                                    "Default": "NULL",
                                    "Extra": ""
                                },
                                {
                                    "Field": "alamat",
                                    "Type": "b'text'",
                                    "Null": "YES",
                                    "Key": "",
                                    "Default": "NULL",
                                    "Extra": ""
                                },
                                {
                                    "Field": "telepon",
                                    "Type": "b'varchar(13)'",
                                    "Null": "YES",
                                    "Key": "",
                                    "Default": "NULL",
                                    "Extra": ""
                                }
                            ]
                        },
                        "text/html": "<table><tr><th>Field</th><th>Type</th><th>Null</th><th>Key</th><th>Default</th><th>Extra</th></tr><tr><td>id_distributor</td><td>b&#39;int&#39;</td><td>NO</td><td>PRI</td><td>NULL</td><td>auto_increment</td></tr><tr><td>nama_distributor</td><td>b&#39;varchar(50)&#39;</td><td>YES</td><td></td><td>NULL</td><td></td></tr><tr><td>alamat</td><td>b&#39;text&#39;</td><td>YES</td><td></td><td>NULL</td><td></td></tr><tr><td>telepon</td><td>b&#39;varchar(13)&#39;</td><td>YES</td><td></td><td>NULL</td><td></td></tr></table>"
                    },
                    "metadata": {}
                },
                {
                    "output_type": "execute_result",
                    "execution_count": 9,
                    "data": {
                        "application/vnd.dataresource+json": {
                            "schema": {
                                "fields": [
                                    {
                                        "name": "Field"
                                    },
                                    {
                                        "name": "Type"
                                    },
                                    {
                                        "name": "Null"
                                    },
                                    {
                                        "name": "Key"
                                    },
                                    {
                                        "name": "Default"
                                    },
                                    {
                                        "name": "Extra"
                                    }
                                ]
                            },
                            "data": [
                                {
                                    "Field": "id_buku",
                                    "Type": "b'int'",
                                    "Null": "NO",
                                    "Key": "PRI",
                                    "Default": "NULL",
                                    "Extra": "auto_increment"
                                },
                                {
                                    "Field": "judul",
                                    "Type": "b'varchar(255)'",
                                    "Null": "YES",
                                    "Key": "",
                                    "Default": "NULL",
                                    "Extra": ""
                                },
                                {
                                    "Field": "no_isbn",
                                    "Type": "b'int'",
                                    "Null": "YES",
                                    "Key": "",
                                    "Default": "NULL",
                                    "Extra": ""
                                },
                                {
                                    "Field": "penulis",
                                    "Type": "b'varchar(35)'",
                                    "Null": "YES",
                                    "Key": "",
                                    "Default": "NULL",
                                    "Extra": ""
                                },
                                {
                                    "Field": "penerbit",
                                    "Type": "b'varchar(50)'",
                                    "Null": "YES",
                                    "Key": "",
                                    "Default": "NULL",
                                    "Extra": ""
                                },
                                {
                                    "Field": "tahun",
                                    "Type": "b'year'",
                                    "Null": "YES",
                                    "Key": "",
                                    "Default": "NULL",
                                    "Extra": ""
                                },
                                {
                                    "Field": "stok",
                                    "Type": "b'int'",
                                    "Null": "YES",
                                    "Key": "",
                                    "Default": "NULL",
                                    "Extra": ""
                                },
                                {
                                    "Field": "harga_produk",
                                    "Type": "b'int'",
                                    "Null": "YES",
                                    "Key": "",
                                    "Default": "NULL",
                                    "Extra": ""
                                },
                                {
                                    "Field": "harga_jual",
                                    "Type": "b'int'",
                                    "Null": "YES",
                                    "Key": "",
                                    "Default": "NULL",
                                    "Extra": ""
                                },
                                {
                                    "Field": "ppn",
                                    "Type": "b'float'",
                                    "Null": "YES",
                                    "Key": "",
                                    "Default": "NULL",
                                    "Extra": ""
                                },
                                {
                                    "Field": "diskon",
                                    "Type": "b'float'",
                                    "Null": "YES",
                                    "Key": "",
                                    "Default": "NULL",
                                    "Extra": ""
                                }
                            ]
                        },
                        "text/html": "<table><tr><th>Field</th><th>Type</th><th>Null</th><th>Key</th><th>Default</th><th>Extra</th></tr><tr><td>id_buku</td><td>b&#39;int&#39;</td><td>NO</td><td>PRI</td><td>NULL</td><td>auto_increment</td></tr><tr><td>judul</td><td>b&#39;varchar(255)&#39;</td><td>YES</td><td></td><td>NULL</td><td></td></tr><tr><td>no_isbn</td><td>b&#39;int&#39;</td><td>YES</td><td></td><td>NULL</td><td></td></tr><tr><td>penulis</td><td>b&#39;varchar(35)&#39;</td><td>YES</td><td></td><td>NULL</td><td></td></tr><tr><td>penerbit</td><td>b&#39;varchar(50)&#39;</td><td>YES</td><td></td><td>NULL</td><td></td></tr><tr><td>tahun</td><td>b&#39;year&#39;</td><td>YES</td><td></td><td>NULL</td><td></td></tr><tr><td>stok</td><td>b&#39;int&#39;</td><td>YES</td><td></td><td>NULL</td><td></td></tr><tr><td>harga_produk</td><td>b&#39;int&#39;</td><td>YES</td><td></td><td>NULL</td><td></td></tr><tr><td>harga_jual</td><td>b&#39;int&#39;</td><td>YES</td><td></td><td>NULL</td><td></td></tr><tr><td>ppn</td><td>b&#39;float&#39;</td><td>YES</td><td></td><td>NULL</td><td></td></tr><tr><td>diskon</td><td>b&#39;float&#39;</td><td>YES</td><td></td><td>NULL</td><td></td></tr></table>"
                    },
                    "metadata": {}
                },
                {
                    "output_type": "execute_result",
                    "execution_count": 9,
                    "data": {
                        "application/vnd.dataresource+json": {
                            "schema": {
                                "fields": [
                                    {
                                        "name": "Field"
                                    },
                                    {
                                        "name": "Type"
                                    },
                                    {
                                        "name": "Null"
                                    },
                                    {
                                        "name": "Key"
                                    },
                                    {
                                        "name": "Default"
                                    },
                                    {
                                        "name": "Extra"
                                    }
                                ]
                            },
                            "data": [
                                {
                                    "Field": "id_kasir",
                                    "Type": "b'int'",
                                    "Null": "NO",
                                    "Key": "PRI",
                                    "Default": "NULL",
                                    "Extra": "auto_increment"
                                },
                                {
                                    "Field": "nama",
                                    "Type": "b'varchar(35)'",
                                    "Null": "YES",
                                    "Key": "",
                                    "Default": "NULL",
                                    "Extra": ""
                                },
                                {
                                    "Field": "alamat",
                                    "Type": "b'text'",
                                    "Null": "YES",
                                    "Key": "",
                                    "Default": "NULL",
                                    "Extra": ""
                                },
                                {
                                    "Field": "telepon",
                                    "Type": "b'varchar(13)'",
                                    "Null": "YES",
                                    "Key": "",
                                    "Default": "NULL",
                                    "Extra": ""
                                },
                                {
                                    "Field": "status",
                                    "Type": "b\"enum('online','offline')\"",
                                    "Null": "YES",
                                    "Key": "",
                                    "Default": "NULL",
                                    "Extra": ""
                                },
                                {
                                    "Field": "username",
                                    "Type": "b'varchar(30)'",
                                    "Null": "YES",
                                    "Key": "",
                                    "Default": "NULL",
                                    "Extra": ""
                                },
                                {
                                    "Field": "password",
                                    "Type": "b'varchar(30)'",
                                    "Null": "YES",
                                    "Key": "",
                                    "Default": "NULL",
                                    "Extra": ""
                                },
                                {
                                    "Field": "akses",
                                    "Type": "b\"enum('admin','kasir')\"",
                                    "Null": "YES",
                                    "Key": "",
                                    "Default": "NULL",
                                    "Extra": ""
                                }
                            ]
                        },
                        "text/html": "<table><tr><th>Field</th><th>Type</th><th>Null</th><th>Key</th><th>Default</th><th>Extra</th></tr><tr><td>id_kasir</td><td>b&#39;int&#39;</td><td>NO</td><td>PRI</td><td>NULL</td><td>auto_increment</td></tr><tr><td>nama</td><td>b&#39;varchar(35)&#39;</td><td>YES</td><td></td><td>NULL</td><td></td></tr><tr><td>alamat</td><td>b&#39;text&#39;</td><td>YES</td><td></td><td>NULL</td><td></td></tr><tr><td>telepon</td><td>b&#39;varchar(13)&#39;</td><td>YES</td><td></td><td>NULL</td><td></td></tr><tr><td>status</td><td>b&quot;enum(&#39;online&#39;,&#39;offline&#39;)&quot;</td><td>YES</td><td></td><td>NULL</td><td></td></tr><tr><td>username</td><td>b&#39;varchar(30)&#39;</td><td>YES</td><td></td><td>NULL</td><td></td></tr><tr><td>password</td><td>b&#39;varchar(30)&#39;</td><td>YES</td><td></td><td>NULL</td><td></td></tr><tr><td>akses</td><td>b&quot;enum(&#39;admin&#39;,&#39;kasir&#39;)&quot;</td><td>YES</td><td></td><td>NULL</td><td></td></tr></table>"
                    },
                    "metadata": {}
                },
                {
                    "output_type": "execute_result",
                    "execution_count": 9,
                    "data": {
                        "application/vnd.dataresource+json": {
                            "schema": {
                                "fields": [
                                    {
                                        "name": "Field"
                                    },
                                    {
                                        "name": "Type"
                                    },
                                    {
                                        "name": "Null"
                                    },
                                    {
                                        "name": "Key"
                                    },
                                    {
                                        "name": "Default"
                                    },
                                    {
                                        "name": "Extra"
                                    }
                                ]
                            },
                            "data": [
                                {
                                    "Field": "id_pasok",
                                    "Type": "b'int'",
                                    "Null": "NO",
                                    "Key": "PRI",
                                    "Default": "NULL",
                                    "Extra": "auto_increment"
                                },
                                {
                                    "Field": "id_distributor",
                                    "Type": "b'int'",
                                    "Null": "YES",
                                    "Key": "MUL",
                                    "Default": "NULL",
                                    "Extra": ""
                                },
                                {
                                    "Field": "id_buku",
                                    "Type": "b'int'",
                                    "Null": "YES",
                                    "Key": "MUL",
                                    "Default": "NULL",
                                    "Extra": ""
                                },
                                {
                                    "Field": "jumlah",
                                    "Type": "b'int'",
                                    "Null": "YES",
                                    "Key": "",
                                    "Default": "NULL",
                                    "Extra": ""
                                },
                                {
                                    "Field": "tanggal",
                                    "Type": "b'date'",
                                    "Null": "YES",
                                    "Key": "",
                                    "Default": "NULL",
                                    "Extra": ""
                                }
                            ]
                        },
                        "text/html": "<table><tr><th>Field</th><th>Type</th><th>Null</th><th>Key</th><th>Default</th><th>Extra</th></tr><tr><td>id_pasok</td><td>b&#39;int&#39;</td><td>NO</td><td>PRI</td><td>NULL</td><td>auto_increment</td></tr><tr><td>id_distributor</td><td>b&#39;int&#39;</td><td>YES</td><td>MUL</td><td>NULL</td><td></td></tr><tr><td>id_buku</td><td>b&#39;int&#39;</td><td>YES</td><td>MUL</td><td>NULL</td><td></td></tr><tr><td>jumlah</td><td>b&#39;int&#39;</td><td>YES</td><td></td><td>NULL</td><td></td></tr><tr><td>tanggal</td><td>b&#39;date&#39;</td><td>YES</td><td></td><td>NULL</td><td></td></tr></table>"
                    },
                    "metadata": {}
                },
                {
                    "output_type": "execute_result",
                    "execution_count": 9,
                    "data": {
                        "application/vnd.dataresource+json": {
                            "schema": {
                                "fields": [
                                    {
                                        "name": "Field"
                                    },
                                    {
                                        "name": "Type"
                                    },
                                    {
                                        "name": "Null"
                                    },
                                    {
                                        "name": "Key"
                                    },
                                    {
                                        "name": "Default"
                                    },
                                    {
                                        "name": "Extra"
                                    }
                                ]
                            },
                            "data": [
                                {
                                    "Field": "id_penjualan",
                                    "Type": "b'int'",
                                    "Null": "NO",
                                    "Key": "PRI",
                                    "Default": "NULL",
                                    "Extra": "auto_increment"
                                },
                                {
                                    "Field": "id_buku",
                                    "Type": "b'int'",
                                    "Null": "YES",
                                    "Key": "MUL",
                                    "Default": "NULL",
                                    "Extra": ""
                                },
                                {
                                    "Field": "id_kasir",
                                    "Type": "b'int'",
                                    "Null": "YES",
                                    "Key": "MUL",
                                    "Default": "NULL",
                                    "Extra": ""
                                },
                                {
                                    "Field": "jumlah",
                                    "Type": "b'int'",
                                    "Null": "YES",
                                    "Key": "",
                                    "Default": "NULL",
                                    "Extra": ""
                                },
                                {
                                    "Field": "total",
                                    "Type": "b'int'",
                                    "Null": "YES",
                                    "Key": "",
                                    "Default": "NULL",
                                    "Extra": ""
                                },
                                {
                                    "Field": "tanggal",
                                    "Type": "b'date'",
                                    "Null": "YES",
                                    "Key": "",
                                    "Default": "NULL",
                                    "Extra": ""
                                }
                            ]
                        },
                        "text/html": "<table><tr><th>Field</th><th>Type</th><th>Null</th><th>Key</th><th>Default</th><th>Extra</th></tr><tr><td>id_penjualan</td><td>b&#39;int&#39;</td><td>NO</td><td>PRI</td><td>NULL</td><td>auto_increment</td></tr><tr><td>id_buku</td><td>b&#39;int&#39;</td><td>YES</td><td>MUL</td><td>NULL</td><td></td></tr><tr><td>id_kasir</td><td>b&#39;int&#39;</td><td>YES</td><td>MUL</td><td>NULL</td><td></td></tr><tr><td>jumlah</td><td>b&#39;int&#39;</td><td>YES</td><td></td><td>NULL</td><td></td></tr><tr><td>total</td><td>b&#39;int&#39;</td><td>YES</td><td></td><td>NULL</td><td></td></tr><tr><td>tanggal</td><td>b&#39;date&#39;</td><td>YES</td><td></td><td>NULL</td><td></td></tr></table>"
                    },
                    "metadata": {}
                }
            ],
            "execution_count": 9
        },
        {
            "cell_type": "code",
            "source": [
                "SELECT * FROM kasir;"
            ],
            "metadata": {
                "azdata_cell_guid": "6155b5cf-bd6c-4bc9-b727-9b0a7bda89fc",
                "language": "sql"
            },
            "outputs": [
{
    "output_type": "display_data",
    "data": {
        "text/html": "(8 row(s) affected)"
    },
    "metadata": {}
}, {
    "output_type": "display_data",
    "data": {
        "text/html": "Total execution time: 00:00:01.037"
    },
    "metadata": {}
}, {
    "output_type": "execute_result",
    "metadata": {},
    "execution_count": 9,
    "data": {
        "application/vnd.dataresource+json": {
            "schema": {
                "fields": [
                    {
                        "name": "id_kasir"
                    },
                    {
                        "name": "nama"
                    },
                    {
                        "name": "alamat"
                    },
                    {
                        "name": "telepon"
                    },
                    {
                        "name": "status"
                    },
                    {
                        "name": "username"
                    },
                    {
                        "name": "password"
                    },
                    {
                        "name": "akses"
                    }
                ]
            },
            "data": [
                {
                    "id_kasir": "1",
                    "nama": "",
                    "alamat": "",
                    "telepon": "",
                    "status": "NULL",
                    "username": "",
                    "password": "",
                    "akses": "NULL"
                },
                {
                    "id_kasir": "2",
                    "nama": "Riyan Darmawan",
                    "alamat": "Kp. jalan buntu no. 12",
                    "telepon": "0876564321",
                    "status": "NULL",
                    "username": "riyandarmawan",
                    "password": "nobody said it was easy",
                    "akses": "NULL"
                },
                {
                    "id_kasir": "3",
                    "nama": "Riyan Darmawan",
                    "alamat": "Kp. jalan buntu no. 12",
                    "telepon": "0876564321",
                    "status": "NULL",
                    "username": "riyandarmawan",
                    "password": "nobody said it was easy",
                    "akses": "NULL"
                },
                {
                    "id_kasir": "4",
                    "nama": "",
                    "alamat": "",
                    "telepon": "",
                    "status": "NULL",
                    "username": "haaland",
                    "password": "$2y$10$keBFjSj9x1pN3u1EEApS6umj6Xdo8EXxIzMx8g5lvpLvNa3VMELU6",
                    "akses": "NULL"
                },
                {
                    "id_kasir": "5",
                    "nama": "",
                    "alamat": "",
                    "telepon": "18765432",
                    "status": "NULL",
                    "username": "haaland",
                    "password": "$2y$10$hWE33pZ2qDojwlyPBA.Gne7VJCJdq.O/xiGmTG4yAlhS1qAKrMtuO",
                    "akses": "NULL"
                },
                {
                    "id_kasir": "6",
                    "nama": "",
                    "alamat": "",
                    "telepon": "123",
                    "status": "NULL",
                    "username": "haaland",
                    "password": "$2y$10$iOPzIKpgOcOU.2jHINAyfeg.ZvJMHDDd2hGT8U6eeZxf3n.2ANJMa",
                    "akses": "NULL"
                },
                {
                    "id_kasir": "7",
                    "nama": "1",
                    "alamat": "1",
                    "telepon": "1",
                    "status": "NULL",
                    "username": "1",
                    "password": "$2y$10$I/ObClJw5T..fqxqa4StEuy5b8MResmWHkdr4Isb/dHlvzQkrztq2",
                    "akses": "NULL"
                },
                {
                    "id_kasir": "8",
                    "nama": "",
                    "alamat": "",
                    "telepon": "",
                    "status": "NULL",
                    "username": "haaland",
                    "password": "$2y$10$76L55LRPrdNea5uRvtVb3O4.3vBec5q/jrN7g4cYRyeNd6aDqtkxm",
                    "akses": "kasir"
                }
            ]
        },
        "text/html": [
            "<table>",
            "<tr><th>id_kasir</th><th>nama</th><th>alamat</th><th>telepon</th><th>status</th><th>username</th><th>password</th><th>akses</th></tr>",
            "<tr><td>1</td><td></td><td></td><td></td><td>NULL</td><td></td><td></td><td>NULL</td></tr>",
            "<tr><td>2</td><td>Riyan Darmawan</td><td>Kp. jalan buntu no. 12</td><td>0876564321</td><td>NULL</td><td>riyandarmawan</td><td>nobody said it was easy</td><td>NULL</td></tr>",
            "<tr><td>3</td><td>Riyan Darmawan</td><td>Kp. jalan buntu no. 12</td><td>0876564321</td><td>NULL</td><td>riyandarmawan</td><td>nobody said it was easy</td><td>NULL</td></tr>",
            "<tr><td>4</td><td></td><td></td><td></td><td>NULL</td><td>haaland</td><td>$2y$10$keBFjSj9x1pN3u1EEApS6umj6Xdo8EXxIzMx8g5lvpLvNa3VMELU6</td><td>NULL</td></tr>",
            "<tr><td>5</td><td></td><td></td><td>18765432</td><td>NULL</td><td>haaland</td><td>$2y$10$hWE33pZ2qDojwlyPBA.Gne7VJCJdq.O/xiGmTG4yAlhS1qAKrMtuO</td><td>NULL</td></tr>",
            "<tr><td>6</td><td></td><td></td><td>123</td><td>NULL</td><td>haaland</td><td>$2y$10$iOPzIKpgOcOU.2jHINAyfeg.ZvJMHDDd2hGT8U6eeZxf3n.2ANJMa</td><td>NULL</td></tr>",
            "<tr><td>7</td><td>1</td><td>1</td><td>1</td><td>NULL</td><td>1</td><td>$2y$10$I/ObClJw5T..fqxqa4StEuy5b8MResmWHkdr4Isb/dHlvzQkrztq2</td><td>NULL</td></tr>",
            "<tr><td>8</td><td></td><td></td><td></td><td>NULL</td><td>haaland</td><td>$2y$10$76L55LRPrdNea5uRvtVb3O4.3vBec5q/jrN7g4cYRyeNd6aDqtkxm</td><td>kasir</td></tr>",
            "</table>"
        ]
    }
}
],
            "execution_count": 9
        },
        {
            "cell_type": "code",
            "source": [
                "ALTER TABLE kasir MODIFY COLUMN password VARCHAR(60);"
            ],
            "metadata": {
                "azdata_cell_guid": "e2fae8dd-ece8-4f20-97aa-8a35eb57f081",
                "language": "sql"
            },
            "outputs": [
                {
                    "output_type": "display_data",
                    "data": {
                        "text/html": "Commands completed successfully"
                    },
                    "metadata": {}
                },
                {
                    "output_type": "display_data",
                    "data": {
                        "text/html": "Total execution time: 00:00:00.241"
                    },
                    "metadata": {}
                }
            ],
            "execution_count": 4
        }
    ]
}